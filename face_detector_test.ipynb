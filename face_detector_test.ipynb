{
 "cells": [
  {
   "cell_type": "code",
   "execution_count": 37,
   "metadata": {},
   "outputs": [],
   "source": [
    "from retinaface import RetinaFace\n",
    "import numpy as np\n",
    "from skimage.io import imread, imsave\n",
    "img_path = \"TestSamples/examples/LeonardoDiCaprio_2.jpg\"\n"
   ]
  },
  {
   "cell_type": "code",
   "execution_count": 38,
   "metadata": {},
   "outputs": [],
   "source": [
    "class FAN(object):\n",
    "    def __init__(self):\n",
    "        import face_alignment\n",
    "        self.model = face_alignment.FaceAlignment(face_alignment.LandmarksType._2D, flip_input=False)\n",
    "\n",
    "    def run(self, image):\n",
    "        '''\n",
    "        image: 0-255, uint8, rgb, [h, w, 3]\n",
    "        return: detected box list\n",
    "        '''\n",
    "        out = self.model.get_landmarks(img_path)\n",
    "        if out is None:\n",
    "            return [0]\n",
    "        else:\n",
    "            kpt = out[0].squeeze()\n",
    "            left = np.min(kpt[:,0]); right = np.max(kpt[:,0]); \n",
    "            top = np.min(kpt[:,1]); bottom = np.max(kpt[:,1])\n",
    "            bbox = [left,top, right, bottom]\n",
    "            return bbox\n",
    "fan = FAN()"
   ]
  },
  {
   "cell_type": "code",
   "execution_count": 39,
   "metadata": {},
   "outputs": [
    {
     "name": "stdout",
     "output_type": "stream",
     "text": [
      "{'face_1': {'score': 0.9998121857643127, 'facial_area': [142, 157, 584, 715], 'landmarks': {'right_eye': [234.11296, 411.71655], 'left_eye': [429.01526, 345.45102], 'nose': [350.4869, 461.71863], 'mouth_right': [311.7202, 596.5794], 'mouth_left': [477.01, 538.84436]}}}\n"
     ]
    }
   ],
   "source": [
    "resp = RetinaFace.detect_faces(img_path=img_path)\n",
    "print(resp)"
   ]
  },
  {
   "cell_type": "code",
   "execution_count": 40,
   "metadata": {},
   "outputs": [
    {
     "name": "stdout",
     "output_type": "stream",
     "text": [
      "[138, 260, 596, 709]\n"
     ]
    }
   ],
   "source": [
    "image = np.array(imread(img_path))\n",
    "res = fan.run(image)\n",
    "res = list(map(int, res))\n",
    "print(res)"
   ]
  },
  {
   "cell_type": "code",
   "execution_count": 41,
   "metadata": {},
   "outputs": [],
   "source": [
    "bbox = resp['face_1']['facial_area']"
   ]
  },
  {
   "cell_type": "code",
   "execution_count": 42,
   "metadata": {},
   "outputs": [],
   "source": [
    "import cv2\n",
    "image = cv2.imread(img_path)\n",
    "image2 = cv2.imread(img_path)\n",
    "h, w = image.shape[:2]\n",
    "image = cv2.rectangle(image, (bbox[0], bbox[1]), (bbox[2], bbox[3]), (100, 200, 200), 5)\n",
    "image2 = cv2.rectangle(image2, (res[0], res[1]), (res[2], res[3]), (100, 200, 200), 5)\n",
    "image = cv2.resize(src=image, dsize=(int(w*0.3),int(h*0.3)))\n",
    "image2 = cv2.resize(src=image2, dsize=(int(w*0.3),int(h*0.3)))\n",
    "cv2.imshow('retina', image)\n",
    "cv2.imshow('fan', image2)\n",
    "cv2.waitKey(0)\n",
    "cv2.destroyAllWindows()"
   ]
  },
  {
   "cell_type": "code",
   "execution_count": null,
   "metadata": {},
   "outputs": [],
   "source": []
  }
 ],
 "metadata": {
  "kernelspec": {
   "display_name": "Python 3.9.12 ('face')",
   "language": "python",
   "name": "python3"
  },
  "language_info": {
   "codemirror_mode": {
    "name": "ipython",
    "version": 3
   },
   "file_extension": ".py",
   "mimetype": "text/x-python",
   "name": "python",
   "nbconvert_exporter": "python",
   "pygments_lexer": "ipython3",
   "version": "3.9.12"
  },
  "orig_nbformat": 4,
  "vscode": {
   "interpreter": {
    "hash": "3f93e701b32735a7c5c5ead8e33c228e504fa7e3e0668afb14dd24383491a62a"
   }
  }
 },
 "nbformat": 4,
 "nbformat_minor": 2
}
